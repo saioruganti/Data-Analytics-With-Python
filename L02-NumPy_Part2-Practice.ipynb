{
 "cells": [
  {
   "cell_type": "markdown",
   "metadata": {
    "tags": []
   },
   "source": [
    "# Lesson 2 Practice: NumPy Part 2\n",
    "Use this notebook to follow along with the lesson in the corresponding lesson notebook: [L02-Numpy_Part2-Lesson.ipynb](./L02-Numpy_Part2-Lesson.ipynb).  \n"
   ]
  },
  {
   "cell_type": "markdown",
   "metadata": {},
   "source": [
    "## Instructions\n",
    "Follow along with the teaching material in the lesson. Throughout the tutorial sections labeled as \"Tasks\" are interspersed and indicated with the icon: ![Task](http://icons.iconarchive.com/icons/sbstnblnd/plateau/16/Apps-gnome-info-icon.png). You should follow the instructions provided in these sections by performing them in the practice notebook.  When the tutorial is completed you can turn in the final practice notebook. For each task, use the cell below it to write and test your code.  You may add additional cells for any task as needed or desired. "
   ]
  },
  {
   "cell_type": "markdown",
   "metadata": {},
   "source": [
    "## Task 1a: Setup\n",
    "\n",
    "In the practice notebook, import the following packages:\n",
    "+ `numpy` as `np`"
   ]
  },
  {
   "cell_type": "code",
   "execution_count": 3,
   "metadata": {},
   "outputs": [],
   "source": [
    "import numpy as np"
   ]
  },
  {
   "cell_type": "markdown",
   "metadata": {},
   "source": [
    "## Task 2a: Indexing by Subsetting and Slicing\n",
    "\n",
    "In the practice notebook perform the following:\n",
    "\n",
    "1. Create (or re-use) 3 arrays, each containing three dimensions.\n",
    "2. Slice each of these arrays so that:\n",
    "    + One element / number is returned.\n",
    "    + One dimension is returned.\n",
    "    + A subset of a dimension is returned.\n",
    "3. What is the difference between `[x:]` and `[x, ...]`? (hint, try each on high-dimension arrays).\n",
    "    \n",
    "*Exactly what you choose to return is not imporant at this point, the goal of this task is to train you so that if you are given an n-dimension NumPy array, you can write an index or slice that returns a subset of desired positions.*"
   ]
  },
  {
   "cell_type": "code",
   "execution_count": 78,
   "metadata": {},
   "outputs": [
    {
     "name": "stdout",
     "output_type": "stream",
     "text": [
      "one_d [26 72 55]\n",
      "two_d [[1 2 3]\n",
      " [2 3 4]]\n",
      "three_d [[[ 1  2  3]\n",
      "  [ 2  3  4]\n",
      "  [ 3  4  5]]\n",
      "\n",
      " [[10 20 30]\n",
      "  [20 30 40]\n",
      "  [30 40 50]]]\n"
     ]
    }
   ],
   "source": [
    "one_d = np.array([26,72,55])\n",
    "two_d = np.array([[1,2,3],[2,3,4]])\n",
    "three_d = np.array([[[1,2,3],[2,3,4],[3,4,5]],[[10,20,30],[20,30,40],[30,40,50]]])\n",
    "\n",
    "print(\"one_d\",one_d)\n",
    "print(\"two_d\",two_d)\n",
    "print(\"three_d\",three_d)\n"
   ]
  },
  {
   "cell_type": "code",
   "execution_count": 80,
   "metadata": {},
   "outputs": [
    {
     "name": "stdout",
     "output_type": "stream",
     "text": [
      "[26 72 55]\n",
      "[26 72 55]\n",
      "[26 72]\n",
      "[26 72]\n"
     ]
    }
   ],
   "source": [
    "# Each set gives the same output\n",
    "\n",
    "# In 1d array [start:end] gets items from start to end (end is not included)\n",
    "# In 2d array [start:end] gets the rows\n",
    "# In 3d array [start:end] gets the 2-d matrices\n",
    "\n",
    "print(one_d[0:3])\n",
    "print(one_d[0:])\n",
    "\n",
    "print(one_d[0:2])\n",
    "print(one_d[:2])\n",
    "\n"
   ]
  },
  {
   "cell_type": "code",
   "execution_count": 81,
   "metadata": {},
   "outputs": [
    {
     "name": "stdout",
     "output_type": "stream",
     "text": [
      "[[1 2 3]\n",
      " [2 3 4]]\n",
      "[[1 2 3]\n",
      " [2 3 4]]\n",
      "[[1 2 3]\n",
      " [2 3 4]]\n"
     ]
    }
   ],
   "source": [
    "print(two_d)\n",
    "print(two_d[0:])\n",
    "print(two_d[0:3])\n",
    "\n"
   ]
  },
  {
   "cell_type": "code",
   "execution_count": 102,
   "metadata": {},
   "outputs": [
    {
     "name": "stdout",
     "output_type": "stream",
     "text": [
      "[[[ 1  2  3]\n",
      "  [ 2  3  4]\n",
      "  [ 3  4  5]]\n",
      "\n",
      " [[10 20 30]\n",
      "  [20 30 40]\n",
      "  [30 40 50]]]\n",
      "[[[ 1  2  3]\n",
      "  [ 2  3  4]\n",
      "  [ 3  4  5]]\n",
      "\n",
      " [[10 20 30]\n",
      "  [20 30 40]\n",
      "  [30 40 50]]]\n",
      "[[[10 20 30]\n",
      "  [20 30 40]\n",
      "  [30 40 50]]]\n",
      "[[[1 2 3]\n",
      "  [2 3 4]\n",
      "  [3 4 5]]]\n"
     ]
    }
   ],
   "source": [
    "print(three_d)\n",
    "print(three_d[0:])\n",
    "\n",
    "print(three_d[1:])\n",
    "\n",
    "print(three_d[:1])\n",
    "\n"
   ]
  },
  {
   "cell_type": "code",
   "execution_count": 32,
   "metadata": {},
   "outputs": [
    {
     "name": "stdout",
     "output_type": "stream",
     "text": [
      "55\n",
      "55\n",
      "4\n",
      "2\n",
      "50\n",
      "20\n"
     ]
    }
   ],
   "source": [
    "# slicing array so that one element is returned\n",
    "print(one_d[-1])\n",
    "print(one_d[2])\n",
    "\n",
    "print(two_d[-1,-1])\n",
    "print(two_d[1,0])\n",
    "    \n",
    "print(three_d[-1,-1,-1])\n",
    "print(three_d[1,0,1])\n"
   ]
  },
  {
   "cell_type": "code",
   "execution_count": 136,
   "metadata": {},
   "outputs": [
    {
     "name": "stdout",
     "output_type": "stream",
     "text": [
      "72\n",
      "[2 3 4]\n",
      "[2 3]\n",
      "[[1 2 3]\n",
      " [2 3 4]\n",
      " [3 4 5]]\n",
      "[[10 20 30]\n",
      " [20 30 40]\n",
      " [30 40 50]]\n",
      "[[ 2  3  4]\n",
      " [20 30 40]]\n",
      "[[30 40 50]]\n",
      "[50]\n",
      "[ 5 50]\n",
      "[30 40]\n"
     ]
    }
   ],
   "source": [
    "# slicing array so that a dimension is returned\n",
    "print(one_d[1,])\n",
    "\n",
    "# extracting a row\n",
    "print(two_d[1,])\n",
    "\n",
    "# extracting a column\n",
    "print(two_d[:,1])\n",
    "\n",
    "# extracting the first dimension\n",
    "print(three_d[0,])\n",
    "print(three_d[1,])\n",
    "\n",
    "# extracting the columns from each 2d matrices\n",
    "print(three_d[:,1])\n",
    "\n",
    "# extracting the columns from one of the 2d matrices\n",
    "print(three_d[1:,2])\n",
    "\n",
    "# extracting the element in 3rd row and 3rd column of the selected 2d matrices\n",
    "print(three_d[1:,2,2])\n",
    "print(three_d[:,2,2])\n",
    "\n",
    "print(three_d[1,:2,2])\n"
   ]
  },
  {
   "cell_type": "code",
   "execution_count": 107,
   "metadata": {},
   "outputs": [
    {
     "name": "stdout",
     "output_type": "stream",
     "text": [
      "[72 55]\n",
      "72\n",
      "[[10 20 30]\n",
      " [20 30 40]\n",
      " [30 40 50]]\n",
      "(3, 3)\n",
      "2\n",
      "[[[10 20 30]\n",
      "  [20 30 40]\n",
      "  [30 40 50]]]\n",
      "(1, 3, 3)\n",
      "3\n"
     ]
    }
   ],
   "source": [
    "# difference between [x:] and [x,..]\n",
    "# [x:] preserves the original dimension\n",
    "\n",
    "print(one_d[1:])\n",
    "print(one_d[1,])\n",
    "\n",
    "print(three_d[1,])\n",
    "print(three_d[1,].shape)\n",
    "print(three_d[1,].ndim)\n",
    "\n",
    "print(three_d[1:])\n",
    "print(three_d[1:].shape)\n",
    "print(three_d[1:].ndim)"
   ]
  },
  {
   "cell_type": "markdown",
   "metadata": {},
   "source": [
    "## Task 3a: Boolean Indexing\n",
    "\n",
    "In the practice notebook perform the following:\n",
    "\n",
    "+ Experiment with the following boolean conditionals to generate boolean arrays for indexing:\n",
    "  + Greater than\n",
    "  + Less than\n",
    "  + Equals\n",
    "  + Combine two or more of the above with:\n",
    "      + or `|`\n",
    "      + and `&`\n",
    "\n",
    "You can create arrays or use existing ones"
   ]
  },
  {
   "cell_type": "code",
   "execution_count": 156,
   "metadata": {},
   "outputs": [
    {
     "name": "stdout",
     "output_type": "stream",
     "text": [
      "[[0.40176123 0.12600821]\n",
      " [0.88904365 0.02192448]\n",
      " [0.91170991 0.94425188]\n",
      " [0.51849824 0.25620194]\n",
      " [0.12589029 0.01580686]]\n",
      "[[ True False]\n",
      " [False False]\n",
      " [False False]\n",
      " [False False]\n",
      " [False False]]\n",
      "[[False  True]\n",
      " [ True  True]\n",
      " [ True  True]\n",
      " [ True  True]\n",
      " [ True  True]]\n",
      "[0.12600821 0.88904365 0.02192448 0.91170991 0.94425188 0.51849824\n",
      " 0.25620194 0.12589029 0.01580686]\n"
     ]
    }
   ],
   "source": [
    "bool_demo = np.random.random((5,2))\n",
    "\n",
    "print(bool_demo)\n",
    "#print(bool_demo<0.5)\n",
    "#print(bool_demo>0.5)\n",
    "#print(bool_demo<=0.5)\n",
    "#print(bool_demo==0.5)\n",
    "print((bool_demo<0.5) & (bool_demo>0.3))\n",
    "\n",
    "print((bool_demo>0.5) | (bool_demo<0.3))\n",
    "\n",
    "print(bool_demo[(bool_demo>0.5) | (bool_demo<0.3)])"
   ]
  },
  {
   "cell_type": "markdown",
   "metadata": {},
   "source": [
    "## Task 4a: Getting Help\n",
    "\n",
    "In the practice notebook perform the following:\n",
    "\n",
    "+ In the code cell below, call `help()` on two of the following functions: `np.transpose()`, `np.reshape()`, `np.resize()`, `np.ravel()`, `np.append()`, `np.delete()`, `np.concatenate()`, `np.vstack()`, `np.hstack()`, `np.column_stack()`, `np.vsplit()`, `np.hsplit()` \n",
    "+ Respond to this question: Did you understand the help docuemntation? Could you use the function just by looking at what the help says about it?  "
   ]
  },
  {
   "cell_type": "code",
   "execution_count": null,
   "metadata": {},
   "outputs": [],
   "source": [
    "#help(np.transpose)\n",
    "#help(np.reshape)\n",
    "#help(np.resize)\n"
   ]
  },
  {
   "cell_type": "code",
   "execution_count": 190,
   "metadata": {},
   "outputs": [
    {
     "name": "stdout",
     "output_type": "stream",
     "text": [
      "[[1 2 3]\n",
      " [2 3 4]]\n",
      "[[1 2]\n",
      " [2 3]\n",
      " [3 4]]\n",
      "[[1 2]\n",
      " [3 2]\n",
      " [3 4]]\n",
      "[[ 1  2]\n",
      " [ 3  2]\n",
      " [ 3  4]\n",
      " [ 3  4]\n",
      " [ 5 10]\n",
      " [20 30]\n",
      " [20 30]\n",
      " [40 30]\n",
      " [40 50]]\n",
      "[[1 2 3 2 3 4 1 2 3 2]]\n",
      "[[ 1  2  3  2  3  4  3  4  5]\n",
      " [10 20 30 20 30 40 30 40 50]]\n",
      "[[ 1  2  3  2  3  4  3  4  5]\n",
      " [10 20 30 20 30 40 30 40 50]\n",
      " [ 1  2  3  2  3  4  3  4  5]]\n"
     ]
    }
   ],
   "source": [
    "print(two_d)\n",
    "# transpose of a 2-d matrix - \n",
    "# can be obtained as two_d.T\n",
    "print(np.transpose(two_d))\n",
    "\n",
    "\n",
    "# changes the array into any shape \n",
    "# there are settings as to how to read the elements for changing the shape\n",
    "print(np.reshape(two_d,(3,2)))\n",
    "print(np.reshape(three_d,(9,2)))\n",
    "\n",
    "\n",
    "# changes the shape of an array into shape specified\n",
    "# when it runs out of elements, it reuses the elements of the array again\n",
    "print(np.resize(two_d,(1,10)))\n",
    "print(np.resize(three_d,(2,9)))\n",
    "print(np.resize(three_d,(3,9)))\n",
    "\n",
    "\n"
   ]
  },
  {
   "cell_type": "code",
   "execution_count": 201,
   "metadata": {},
   "outputs": [],
   "source": [
    "# help(np.ravel)\n",
    "# help(np.append)"
   ]
  },
  {
   "cell_type": "code",
   "execution_count": 198,
   "metadata": {},
   "outputs": [
    {
     "name": "stdout",
     "output_type": "stream",
     "text": [
      "[[1 2 3]\n",
      " [2 3 4]]\n",
      "[1 2 3 2 3 4]\n",
      "[1 2 3 2 3 4]\n",
      "[1 2 2 3 3 4]\n",
      "[1 2 2 3 3 4]\n"
     ]
    }
   ],
   "source": [
    "print(two_d)\n",
    "\n",
    "print(np.ravel(two_d))\n",
    "print(two_d.reshape(-1))\n",
    "\n",
    "print(np.ravel(two_d.T))\n",
    "print(np.ravel(two_d,order=\"F\"))\n"
   ]
  },
  {
   "cell_type": "markdown",
   "metadata": {},
   "source": [
    "## Task 5a: Transposing an Array\n",
    "\n",
    "In the practice notebook perform the following:\n",
    "\n",
    "+ Create a matrix of any size and transpose it."
   ]
  },
  {
   "cell_type": "code",
   "execution_count": 202,
   "metadata": {},
   "outputs": [
    {
     "name": "stdout",
     "output_type": "stream",
     "text": [
      "[[1 2 3]\n",
      " [2 3 4]]\n",
      "[[1 2]\n",
      " [2 3]\n",
      " [3 4]]\n",
      "[[1 2]\n",
      " [2 3]\n",
      " [3 4]]\n"
     ]
    }
   ],
   "source": [
    "print(two_d)\n",
    "print(np.transpose(two_d))\n",
    "print(two_d.T)"
   ]
  },
  {
   "cell_type": "markdown",
   "metadata": {},
   "source": [
    "## Task 5b: Reshaping an Array\n",
    "\n",
    "In the practice notebook peform the following:\n",
    "\n",
    "+ Create a matrix and resize it by adding 2 extra columns\n",
    "+ Create a matrix and resize it by adding 1 extra row\n",
    "+ Create a matrix of 8 x 2 and resize it to 4 x 4"
   ]
  },
  {
   "cell_type": "code",
   "execution_count": 212,
   "metadata": {},
   "outputs": [
    {
     "name": "stdout",
     "output_type": "stream",
     "text": [
      "[[1 2 3]\n",
      " [2 3 4]]\n",
      "[[1 2 3 2 3]\n",
      " [4 1 2 3 2]]\n",
      "[[1 2 3]\n",
      " [2 3 4]\n",
      " [1 2 3]]\n",
      "[[0.28286362 0.3431937 ]\n",
      " [0.20979871 0.22349209]\n",
      " [0.71103686 0.99588537]\n",
      " [0.44326207 0.83119929]\n",
      " [0.35408742 0.39221686]\n",
      " [0.0627387  0.86950108]\n",
      " [0.05329236 0.95321954]\n",
      " [0.37992688 0.72974466]]\n",
      "[[0.28286362 0.3431937  0.20979871 0.22349209]\n",
      " [0.71103686 0.99588537 0.44326207 0.83119929]\n",
      " [0.35408742 0.39221686 0.0627387  0.86950108]\n",
      " [0.05329236 0.95321954 0.37992688 0.72974466]]\n"
     ]
    }
   ],
   "source": [
    "print(two_d)\n",
    "print(np.resize(two_d,(2,5)))\n",
    "print(np.resize(two_d,(3,3)))\n",
    "\n",
    "matrix_a = np.random.random((8,2))\n",
    "print(matrix_a)\n",
    "print(np.reshape(matrix_a,(4,4)))"
   ]
  },
  {
   "cell_type": "markdown",
   "metadata": {},
   "source": [
    "## Task 5c: Appending to an Array\n",
    "\n",
    "In the practice notebook perform the following:\n",
    "\n",
    " + Create a three dimensional array and append another row to the array\n",
    " + Append another colum to the array\n",
    " + Print the final results"
   ]
  },
  {
   "cell_type": "code",
   "execution_count": 223,
   "metadata": {},
   "outputs": [
    {
     "name": "stdout",
     "output_type": "stream",
     "text": [
      "[[[ 1  2  3]\n",
      "  [ 2  3  4]\n",
      "  [ 3  4  5]]\n",
      "\n",
      " [[10 20 30]\n",
      "  [20 30 40]\n",
      "  [30 40 50]]]\n",
      "[[[  1   2   3]\n",
      "  [  2   3   4]\n",
      "  [  3   4   5]]\n",
      "\n",
      " [[ 10  20  30]\n",
      "  [ 20  30  40]\n",
      "  [ 30  40  50]]\n",
      "\n",
      " [[  6   7   8]\n",
      "  [ 60  70  80]\n",
      "  [600 700 800]]]\n",
      "[[[ 1  2  3]\n",
      "  [ 2  3  4]\n",
      "  [ 3  4  5]\n",
      "  [ 6  7  8]]\n",
      "\n",
      " [[10 20 30]\n",
      "  [20 30 40]\n",
      "  [30 40 50]\n",
      "  [60 70 80]]]\n",
      "[[[ 1  2  3  6]\n",
      "  [ 2  3  4  7]\n",
      "  [ 3  4  5  8]]\n",
      "\n",
      " [[10 20 30 60]\n",
      "  [20 30 40 70]\n",
      "  [30 40 50 80]]]\n"
     ]
    }
   ],
   "source": [
    "print(three_d)\n",
    "print(np.append(three_d,[[[6,7,8],[60,70,80],[600,700,800]]],axis=0))\n",
    "print(np.append(three_d,[[[6,7,8]],[[60,70,80]]],axis=1))\n",
    "print(np.append(three_d,[[[6],[7],[8]],[[60],[70],[80]]],axis=2))"
   ]
  },
  {
   "cell_type": "markdown",
   "metadata": {},
   "source": [
    "## Task 5d: Inserting and Deleting Elements\n",
    "\n",
    "In the practice notebook perform the following:\n",
    "\n",
    "+ Examine the `help()` documentation for how to use the `insert()` and `delete()` functions.\n",
    "+ Create a matrix and practice inserting a row and deleting a column."
   ]
  },
  {
   "cell_type": "code",
   "execution_count": 277,
   "metadata": {},
   "outputs": [
    {
     "name": "stdout",
     "output_type": "stream",
     "text": [
      "Help on function delete in module numpy:\n",
      "\n",
      "delete(arr, obj, axis=None)\n",
      "    Return a new array with sub-arrays along an axis deleted. For a one\n",
      "    dimensional array, this returns those entries not returned by\n",
      "    `arr[obj]`.\n",
      "    \n",
      "    Parameters\n",
      "    ----------\n",
      "    arr : array_like\n",
      "        Input array.\n",
      "    obj : slice, int or array of ints\n",
      "        Indicate indices of sub-arrays to remove along the specified axis.\n",
      "    \n",
      "        .. versionchanged:: 1.19.0\n",
      "            Boolean indices are now treated as a mask of elements to remove,\n",
      "            rather than being cast to the integers 0 and 1.\n",
      "    \n",
      "    axis : int, optional\n",
      "        The axis along which to delete the subarray defined by `obj`.\n",
      "        If `axis` is None, `obj` is applied to the flattened array.\n",
      "    \n",
      "    Returns\n",
      "    -------\n",
      "    out : ndarray\n",
      "        A copy of `arr` with the elements specified by `obj` removed. Note\n",
      "        that `delete` does not occur in-place. If `axis` is None, `out` is\n",
      "        a flattened array.\n",
      "    \n",
      "    See Also\n",
      "    --------\n",
      "    insert : Insert elements into an array.\n",
      "    append : Append elements at the end of an array.\n",
      "    \n",
      "    Notes\n",
      "    -----\n",
      "    Often it is preferable to use a boolean mask. For example:\n",
      "    \n",
      "    >>> arr = np.arange(12) + 1\n",
      "    >>> mask = np.ones(len(arr), dtype=bool)\n",
      "    >>> mask[[0,2,4]] = False\n",
      "    >>> result = arr[mask,...]\n",
      "    \n",
      "    Is equivalent to `np.delete(arr, [0,2,4], axis=0)`, but allows further\n",
      "    use of `mask`.\n",
      "    \n",
      "    Examples\n",
      "    --------\n",
      "    >>> arr = np.array([[1,2,3,4], [5,6,7,8], [9,10,11,12]])\n",
      "    >>> arr\n",
      "    array([[ 1,  2,  3,  4],\n",
      "           [ 5,  6,  7,  8],\n",
      "           [ 9, 10, 11, 12]])\n",
      "    >>> np.delete(arr, 1, 0)\n",
      "    array([[ 1,  2,  3,  4],\n",
      "           [ 9, 10, 11, 12]])\n",
      "    \n",
      "    >>> np.delete(arr, np.s_[::2], 1)\n",
      "    array([[ 2,  4],\n",
      "           [ 6,  8],\n",
      "           [10, 12]])\n",
      "    >>> np.delete(arr, [1,3,5], None)\n",
      "    array([ 1,  3,  5,  7,  8,  9, 10, 11, 12])\n",
      "\n"
     ]
    }
   ],
   "source": [
    "#help(np.insert)\n",
    "help(np.delete)"
   ]
  },
  {
   "cell_type": "code",
   "execution_count": 275,
   "metadata": {},
   "outputs": [
    {
     "name": "stdout",
     "output_type": "stream",
     "text": [
      "[[1 1]\n",
      " [2 2]\n",
      " [3 3]]\n",
      "[1 1 5 2 2 3 3]\n",
      "[[1 1]\n",
      " [2 2]\n",
      " [5 5]\n",
      " [3 3]]\n",
      "[[1 1 5]\n",
      " [2 2 5]\n",
      " [3 3 5]]\n",
      "[[ 1  1]\n",
      " [ 2  2]\n",
      " [10 50]\n",
      " [ 3  3]]\n",
      "[[  1  10   1]\n",
      " [  2  50   2]\n",
      " [  3 100   3]]\n"
     ]
    }
   ],
   "source": [
    "array = np.array([[1,1],[2,2],[3,3]])\n",
    "print(array)\n",
    "\n",
    "# np.insert( array, position, value to insert, axis)\n",
    "# if axis in not specified, array is first flattened\n",
    "\n",
    "print(np.insert(array,2,5))\n",
    "print(np.insert(array,2,5,axis=0))\n",
    "print(np.insert(array,2,5,axis=1))\n",
    "\n",
    "print(np.insert(array,2,[10,50],axis=0))\n",
    "print(np.insert(array,1,[10,50,100],axis=1))\n",
    "\n"
   ]
  },
  {
   "cell_type": "code",
   "execution_count": 281,
   "metadata": {},
   "outputs": [
    {
     "name": "stdout",
     "output_type": "stream",
     "text": [
      "[[1 1]\n",
      " [2 2]\n",
      " [3 3]]\n",
      "[[2 2]\n",
      " [3 3]]\n",
      "[[1]\n",
      " [2]\n",
      " [3]]\n"
     ]
    }
   ],
   "source": [
    "# np.delete(array, position, axis)\n",
    "# if axis is not specified, array is flattened\n",
    "\n",
    "print(array)\n",
    "\n",
    "print(np.delete(array,0,axis=0)) \n",
    "print(np.delete(array,0,axis=1)) \n",
    "\n"
   ]
  },
  {
   "cell_type": "markdown",
   "metadata": {},
   "source": [
    "## Task 5e: Joining Arrays\n",
    "\n",
    "In the practice notebook perform the following:\n",
    "\n",
    "+ Execute the code (in the cell below).\n",
    "+ Examine the output from each of the function calls in the cell above. If needed to understand, review the help pages for each tool either using the `help()` command or the [Numpy Function Reference](https://docs.scipy.org/doc/numpy/reference/routines.html). \n",
    "+ Respond to the following question and respond in the second cell below.\n",
    "  + Can you identify what is happening with each of them?"
   ]
  },
  {
   "cell_type": "code",
   "execution_count": 286,
   "metadata": {},
   "outputs": [
    {
     "name": "stdout",
     "output_type": "stream",
     "text": [
      "concatenate:\n",
      "[1 2 3 4 1 1 1 1]\n",
      "\n",
      "vstack:\n",
      "[[1 2 3 4]\n",
      " [1 2 3 4]\n",
      " [5 6 7 8]]\n",
      "\n",
      "hstack:\n",
      "[[1 2 3 4 1 2 3 4]\n",
      " [5 6 7 8 5 6 7 8]]\n",
      "\n",
      "column_stack:\n",
      "[[1 1]\n",
      " [2 2]\n",
      " [3 3]\n",
      " [4 4]]\n"
     ]
    }
   ],
   "source": [
    "# Concatentate `my_array` and `x`: similar to np.append()\n",
    "my_array = np.array([1,2,3,4])\n",
    "x = np.array([1,1,1,1])\n",
    "print(\"concatenate:\")\n",
    "print(np.concatenate((my_array, x)))\n",
    "\n",
    "# Stack arrays row-wise\n",
    "my_2d_array = np.array([[1,2,3,4], [5,6,7,8]])\n",
    "print(\"\\nvstack:\")\n",
    "print(np.vstack((my_array, my_2d_array)))\n",
    "\n",
    "# Stack arrays horizontally\n",
    "print(\"\\nhstack:\")\n",
    "print(np.hstack((my_2d_array, my_2d_array)))\n",
    "\n",
    "# Stack 1-d arrays column-wise\n",
    "print(\"\\ncolumn_stack:\")\n",
    "print(np.column_stack((my_array, my_array)))"
   ]
  },
  {
   "cell_type": "code",
   "execution_count": null,
   "metadata": {},
   "outputs": [],
   "source": [
    "#help(np.column_stack)"
   ]
  },
  {
   "cell_type": "markdown",
   "metadata": {},
   "source": [
    "## Task 5d: Splitting Arrays\n",
    "\n",
    "In the practice notebook perform the following:\n",
    "\n",
    "+ Execute the code (as shown below).\n",
    "+ Examine the output from each of the function calls in the cell above. If needed to understand, review the help pages for each tool either using the `help()` command or the [Numpy Function Reference](https://docs.scipy.org/doc/numpy/reference/routines.html). \n",
    "+ Respond to the following question and respond in the second cell below.\n",
    "  + Can you identify what is happening with each of them?"
   ]
  },
  {
   "cell_type": "code",
   "execution_count": 297,
   "metadata": {},
   "outputs": [
    {
     "name": "stdout",
     "output_type": "stream",
     "text": [
      "original:\n",
      "[[1 2 3 4]\n",
      " [5 6 7 8]]\n",
      "\n",
      "hsplit:\n",
      "[array([[1, 2],\n",
      "       [5, 6]]), array([[3, 4],\n",
      "       [7, 8]])]\n",
      "\n",
      "vsplit:\n",
      "[array([[1, 2, 3, 4],\n",
      "       [5, 6, 7, 8]])]\n"
     ]
    }
   ],
   "source": [
    "# Create a 2D array.\n",
    "my_2d_array = np.array([[1,2,3,4], [5,6,7,8]])\n",
    "print(\"original:\")\n",
    "print(my_2d_array)\n",
    "\n",
    "# Split `my_stacked_array` horizontally at the 2nd index\n",
    "print(\"\\nhsplit:\")\n",
    "print(np.hsplit(my_2d_array, 2))\n",
    "\n",
    "# Split `my_stacked_array` vertically at the 2nd index\n",
    "print(\"\\nvsplit:\")\n",
    "print(np.vsplit(my_2d_array,1))"
   ]
  },
  {
   "cell_type": "code",
   "execution_count": 295,
   "metadata": {},
   "outputs": [],
   "source": [
    "#help(np.hsplit)"
   ]
  }
 ],
 "metadata": {
  "kernelspec": {
   "display_name": "Python 3 (ipykernel)",
   "language": "python",
   "name": "python3"
  },
  "language_info": {
   "codemirror_mode": {
    "name": "ipython",
    "version": 3
   },
   "file_extension": ".py",
   "mimetype": "text/x-python",
   "name": "python",
   "nbconvert_exporter": "python",
   "pygments_lexer": "ipython3",
   "version": "3.8.10"
  }
 },
 "nbformat": 4,
 "nbformat_minor": 4
}
