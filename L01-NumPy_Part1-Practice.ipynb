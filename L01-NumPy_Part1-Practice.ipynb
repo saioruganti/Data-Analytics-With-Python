{
 "cells": [
  {
   "cell_type": "markdown",
   "metadata": {
    "tags": []
   },
   "source": [
    "# Lesson 1 Practice: NumPy Part 1\n",
    "Use this notebook to follow along with the lesson in the corresponding lesson notebook: [L01-Numpy_Part1-Lesson.ipynb](./L01-Numpy_Part1-Lesson.ipynb).  \n",
    "\n"
   ]
  },
  {
   "cell_type": "markdown",
   "metadata": {},
   "source": [
    "## Instructions\n",
    "Follow along with the teaching material in the lesson. Throughout the tutorial sections labeled as \"Tasks\" are interspersed and indicated with the icon: ![Task](http://icons.iconarchive.com/icons/sbstnblnd/plateau/16/Apps-gnome-info-icon.png). You should follow the instructions provided in these sections by performing them in the practice notebook.  When the tutorial is completed you can turn in the final practice notebook. For each task, use the cell below it to write and test your code.  You may add additional cells for any task as needed or desired.  "
   ]
  },
  {
   "cell_type": "markdown",
   "metadata": {},
   "source": [
    "## Task 1a: Setup\n",
    "\n",
    "In the practice notebook, import the following packages:\n",
    "+ `numpy` as `np`"
   ]
  },
  {
   "cell_type": "code",
   "execution_count": 2,
   "metadata": {},
   "outputs": [],
   "source": [
    "import numpy as np\n"
   ]
  },
  {
   "cell_type": "markdown",
   "metadata": {},
   "source": [
    "## Task 2a: Creating Arrays\n",
    "\n",
    "In the practice notebook, perform the following.  \n",
    "- Create a 1-dimensional numpy array and print it.\n",
    "- Create a 2-dimensional numpy array and print it.\n",
    "- Create a 3-dimensional numpy array and print it."
   ]
  },
  {
   "cell_type": "code",
   "execution_count": 3,
   "metadata": {},
   "outputs": [
    {
     "name": "stdout",
     "output_type": "stream",
     "text": [
      "one_d [1 2 3]\n",
      "two_d [[1 2 3]\n",
      " [2 3 4]]\n",
      "three_d [[1 2 3]\n",
      " [2 3 4]\n",
      " [3 4 5]]\n"
     ]
    }
   ],
   "source": [
    "one_d = np.array([1,2,3])\n",
    "two_d = np.array([[1,2,3],[2,3,4]])\n",
    "three_d = np.array([[1,2,3],[2,3,4],[3,4,5]])\n",
    "\n",
    "print(\"one_d\",one_d)\n",
    "print(\"two_d\",two_d)\n",
    "print(\"three_d\",three_d)\n"
   ]
  },
  {
   "cell_type": "code",
   "execution_count": 4,
   "metadata": {},
   "outputs": [
    {
     "data": {
      "text/plain": [
       "array([1, 2, 3])"
      ]
     },
     "execution_count": 4,
     "metadata": {},
     "output_type": "execute_result"
    }
   ],
   "source": [
    "one_d"
   ]
  },
  {
   "cell_type": "code",
   "execution_count": 5,
   "metadata": {},
   "outputs": [
    {
     "data": {
      "text/plain": [
       "array([[1, 2, 3],\n",
       "       [2, 3, 4]])"
      ]
     },
     "execution_count": 5,
     "metadata": {},
     "output_type": "execute_result"
    }
   ],
   "source": [
    "two_d"
   ]
  },
  {
   "cell_type": "code",
   "execution_count": 6,
   "metadata": {},
   "outputs": [
    {
     "data": {
      "text/plain": [
       "array([[1, 2, 3],\n",
       "       [2, 3, 4],\n",
       "       [3, 4, 5]])"
      ]
     },
     "execution_count": 6,
     "metadata": {},
     "output_type": "execute_result"
    }
   ],
   "source": [
    "three_d"
   ]
  },
  {
   "cell_type": "markdown",
   "metadata": {},
   "source": [
    "## Task 3a: Accessing Array Attributes\n",
    "\n",
    "In the practice notebook, perform the following.\n",
    "\n",
    "- Create a NumPy array.\n",
    "- Write code that prints these attributes (one per line): `ndim`, `shape`, `size`, `dtype`, `itemsize`, `data`, `nbytes`.\n",
    "- Add a comment line, before each line describing what value the attribute returns. \n"
   ]
  },
  {
   "cell_type": "code",
   "execution_count": 7,
   "metadata": {},
   "outputs": [
    {
     "name": "stdout",
     "output_type": "stream",
     "text": [
      "1\n",
      "2\n",
      "(2,)\n",
      "(2, 3)\n",
      "2\n",
      "6\n",
      "int64\n",
      "float64\n",
      "8\n",
      "8\n",
      "<memory at 0x7f76b96a8f40>\n",
      "<memory at 0x7f76f8385040>\n",
      "16\n",
      "48\n"
     ]
    }
   ],
   "source": [
    "# creating a NumPy array\n",
    "my_array   = np.array([1,2])\n",
    "my_array2 = np.array([[1.2,2.3,3.4],[4.5,5.6,6.7]])\n",
    "                       \n",
    "\n",
    "# finding the dimensions\n",
    "print(my_array.ndim)\n",
    "print(my_array2.ndim)\n",
    "\n",
    "#finding the shape\n",
    "print(my_array.shape)\n",
    "print(my_array2.shape)\n",
    "\n",
    "#finding the size - total number of elements\n",
    "print(my_array.size)\n",
    "print(my_array2.size)\n",
    "\n",
    "#finding the dtype - data type\n",
    "print(my_array.dtype)\n",
    "print(my_array2.dtype)\n",
    "\n",
    "#finding the itemsize - length of one array element in bytes\n",
    "print(my_array.itemsize)\n",
    "print(my_array2.itemsize)\n",
    "                       \n",
    "#finding the data - pointer to the start of the array\n",
    "print(my_array.data)\n",
    "print(my_array2.data)\n",
    "\n",
    "#finding the nbytes - total number of bytes for the array\n",
    "# basically this is [size*itemsize]\n",
    "print(my_array.nbytes)\n",
    "print(my_array2.nbytes)"
   ]
  },
  {
   "cell_type": "markdown",
   "metadata": {},
   "source": [
    "## Task 4a: Initializing Arrays\n",
    "\n",
    "In the practice notebook, perform the following.\n",
    "\n",
    "+ Create an initialized array by using these functions:  `ones`, `zeros`, `empty`, `full`, `arange`, `linspace` and `random.random`. Be sure to follow each array creation with a call to `print()` to display your newly created arrays. \n",
    "+ Add a comment above each function call describing what is being done.  "
   ]
  },
  {
   "cell_type": "code",
   "execution_count": 8,
   "metadata": {},
   "outputs": [
    {
     "name": "stdout",
     "output_type": "stream",
     "text": [
      "[[1 1 1 1]\n",
      " [1 1 1 1]\n",
      " [1 1 1 1]]\n",
      "[[0. 0. 0.]\n",
      " [0. 0. 0.]]\n",
      "[[2.43613493e-316 0.00000000e+000]\n",
      " [4.74303020e-322 6.92428728e-310]]\n",
      "[[1 1]\n",
      " [1 1]]\n",
      "int64\n",
      "[[1. 2. 3.]\n",
      " [1. 2. 3.]]\n",
      "float64\n"
     ]
    }
   ],
   "source": [
    "ones = np.ones((3,4),int)  #default dtype = float\n",
    "print(ones)\n",
    "\n",
    "zeroes = np.zeros((2,3)) #default dtype = float\n",
    "print(zeroes)\n",
    "\n",
    "empty = np.empty((2,2)) # default dtype = float\n",
    "print(empty)\n",
    "\n",
    "full = np.full((2,2),1) # default dtype = None - determines the dtype from the input\n",
    "print(full)\n",
    "print(full.dtype)\n",
    "\n",
    "full2 = np.full((2,3),[1.0,2,3]) \n",
    "print(full2)\n",
    "print(full2.dtype)\n",
    "\n"
   ]
  },
  {
   "cell_type": "code",
   "execution_count": 9,
   "metadata": {},
   "outputs": [
    {
     "name": "stdout",
     "output_type": "stream",
     "text": [
      "[0 1 2 3 4]\n",
      "[10 12 14 16 18]\n",
      "[10 12 14 16 18 20]\n",
      "[11 14 17]\n",
      "[0 0 0 0 0 0 0 0 0 0 0 0 0 0 0 0 0 0 0 0]\n",
      "[0.  0.5 1.  1.5 2.  2.5 3.  3.5 4.  4.5 5.  5.5 6.  6.5 7.  7.5 8.  8.5\n",
      " 9.  9.5]\n",
      "(20,)\n",
      "1\n"
     ]
    }
   ],
   "source": [
    "# numpy.arange([start, ]stop, [step, ]dtype=None, *, like=None)\n",
    "# default start is 0. default step size is 1. default dtype is None\n",
    "# If step is specified, start should also be specified. \n",
    "# Better to not use when dtype = int and step is float\n",
    "\n",
    "# Returns array\n",
    "\n",
    "arange = np.arange(5)\n",
    "print(arange)\n",
    "\n",
    "# It does not include the STOP in the output array\n",
    "arange = np.arange(10,20,2)\n",
    "print(arange)\n",
    "\n",
    "arange = np.arange(10,21,2)\n",
    "print(arange)\n",
    "arange = np.arange(11,20,3)\n",
    "print(arange)\n",
    "\n",
    "# error prone\n",
    "arange = np.arange(0,10,0.5, dtype = int)\n",
    "print(arange)\n",
    "\n",
    "\n",
    "arange = np.arange(0,10,0.5, dtype = float)\n",
    "print(arange)\n",
    "print(arange.shape)\n",
    "print(arange.ndim)\n"
   ]
  },
  {
   "cell_type": "code",
   "execution_count": 10,
   "metadata": {},
   "outputs": [
    {
     "name": "stdout",
     "output_type": "stream",
     "text": [
      "(array([1. , 1.5, 2. , 2.5, 3. ]), 0.5)\n",
      "(array([1. , 1.4, 1.8, 2.2, 2.6]), 0.4)\n"
     ]
    }
   ],
   "source": [
    "# numpy.linspace(start, stop, num=50, endpoint=True, retstep=False, dtype=None, axis=0)\n",
    "# equally spaced values over a closed interval [start,stop]\n",
    "# num determines the spacing between values\n",
    "# endpoint = False makes the interval half-open interval [start,stop)\n",
    "# retstep = True returns the calculated step size\n",
    "\n",
    "# Returns tuple\n",
    "\n",
    "#linspace = np.linspace(1,3)\n",
    "#print(linspace)\n",
    "\n",
    "# includes the stop in the output\n",
    "linspace = np.linspace(1,3,num = 5,retstep = True)\n",
    "print(linspace)\n",
    "\n",
    "# excludes the stop in the output\n",
    "linspace = np.linspace(1,3,num = 5,endpoint = False, retstep = True)\n",
    "print(linspace)\n",
    "\n",
    "# The step sizes are different in both of the above\n",
    "\n",
    "# trying the linspace for array input for start and stop\n",
    "linspace = np.linspace((2,3),(4,4),num = 5,retstep = True)\n",
    "\n",
    "\n",
    "\n"
   ]
  },
  {
   "cell_type": "code",
   "execution_count": 11,
   "metadata": {},
   "outputs": [
    {
     "name": "stdout",
     "output_type": "stream",
     "text": [
      "0.6360840693647614\n",
      "[0.70437364 0.2559916 ]\n",
      "[[0.77052062 0.80101797 0.52311164]\n",
      " [0.75831325 0.36612732 0.93494791]]\n",
      "(2, 3)\n"
     ]
    }
   ],
   "source": [
    "# returns a random value between [0,1)\n",
    "\n",
    "print(np.random.random())\n",
    "print(np.random.random(2))\n",
    "print(np.random.random((2,3)))\n",
    "\n",
    "print(np.random.random((2,3)).shape)"
   ]
  },
  {
   "cell_type": "markdown",
   "metadata": {},
   "source": [
    "## Task 5a:  Broadcasting Arrays\n",
    "\n",
    "In the practice notebook, perform the following.\n",
    "\n",
    "+ Create two arrays of differing sizes but compatible with broadcasting.\n",
    "+ Perform addition, multiplication and subtraction.\n",
    "+ Create two additional arrays of differing size that do not meet the rules for broadcasting and try a mathematical operation.  "
   ]
  },
  {
   "cell_type": "code",
   "execution_count": 12,
   "metadata": {},
   "outputs": [
    {
     "name": "stdout",
     "output_type": "stream",
     "text": [
      "array_1 shape: (3, 4)\n",
      "array_2 shape: (2, 4)\n",
      "array_3 shape: (3, 2, 4)\n",
      "[[0 0 0 0]\n",
      " [1 1 1 1]\n",
      " [2 2 2 2]]\n",
      "[[0.28927564 0.65764496 0.5705427  0.55124274]\n",
      " [0.16987286 0.34262658 0.39031002 0.42618431]]\n",
      "[[[1. 1. 1. 1.]\n",
      "  [1. 1. 1. 1.]]\n",
      "\n",
      " [[1. 1. 1. 1.]\n",
      "  [1. 1. 1. 1.]]\n",
      "\n",
      " [[1. 1. 1. 1.]\n",
      "  [1. 1. 1. 1.]]]\n"
     ]
    }
   ],
   "source": [
    "\n",
    "\n",
    "array_1 = np.array([[0,0,0,0],[1,1,1,1],[2,2,2,2]])\n",
    "array_2 = np.random.random((2,4))\n",
    "array_3 = np.ones((3,2,4))\n",
    "\n",
    "print(f\"array_1 shape: {array_1.shape}\")\n",
    "print(f\"array_2 shape: {array_2.shape}\")\n",
    "print(f\"array_3 shape: {array_3.shape}\")\n",
    "\n",
    "print(array_1)\n",
    "print(array_2)\n",
    "print(array_3)\n",
    "\n"
   ]
  },
  {
   "cell_type": "markdown",
   "metadata": {},
   "source": [
    "array_1 and array_2 are NOT broadcastable\n",
    "\n",
    "array_1 and array_3 are NOT broadcastable\n",
    "\n",
    "array_2 and array_3 are broadcastable"
   ]
  },
  {
   "cell_type": "code",
   "execution_count": 13,
   "metadata": {},
   "outputs": [
    {
     "ename": "ValueError",
     "evalue": "operands could not be broadcast together with shapes (3,4) (2,4) ",
     "output_type": "error",
     "traceback": [
      "\u001b[0;31m---------------------------------------------------------------------------\u001b[0m",
      "\u001b[0;31mValueError\u001b[0m                                Traceback (most recent call last)",
      "Input \u001b[0;32mIn [13]\u001b[0m, in \u001b[0;36m<module>\u001b[0;34m\u001b[0m\n\u001b[0;32m----> 1\u001b[0m result_12 \u001b[38;5;241m=\u001b[39m \u001b[43marray_1\u001b[49m\u001b[43m \u001b[49m\u001b[38;5;241;43m+\u001b[39;49m\u001b[43m \u001b[49m\u001b[43marray_2\u001b[49m\n\u001b[1;32m      2\u001b[0m \u001b[38;5;28mprint\u001b[39m(result)\n",
      "\u001b[0;31mValueError\u001b[0m: operands could not be broadcast together with shapes (3,4) (2,4) "
     ]
    }
   ],
   "source": [
    "result_12 = array_1 + array_2\n",
    "print(result)"
   ]
  },
  {
   "cell_type": "code",
   "execution_count": 14,
   "metadata": {},
   "outputs": [
    {
     "ename": "ValueError",
     "evalue": "operands could not be broadcast together with shapes (3,4) (3,2,4) ",
     "output_type": "error",
     "traceback": [
      "\u001b[0;31m---------------------------------------------------------------------------\u001b[0m",
      "\u001b[0;31mValueError\u001b[0m                                Traceback (most recent call last)",
      "Input \u001b[0;32mIn [14]\u001b[0m, in \u001b[0;36m<module>\u001b[0;34m\u001b[0m\n\u001b[0;32m----> 1\u001b[0m result_13 \u001b[38;5;241m=\u001b[39m \u001b[43marray_1\u001b[49m\u001b[43m \u001b[49m\u001b[38;5;241;43m+\u001b[39;49m\u001b[43m \u001b[49m\u001b[43marray_3\u001b[49m\n\u001b[1;32m      2\u001b[0m \u001b[38;5;28mprint\u001b[39m(result_13)\n",
      "\u001b[0;31mValueError\u001b[0m: operands could not be broadcast together with shapes (3,4) (3,2,4) "
     ]
    }
   ],
   "source": [
    "result_13 = array_1 + array_3\n",
    "print(result_13)"
   ]
  },
  {
   "cell_type": "code",
   "execution_count": 15,
   "metadata": {},
   "outputs": [
    {
     "name": "stdout",
     "output_type": "stream",
     "text": [
      "[[[1.28927564 1.65764496 1.5705427  1.55124274]\n",
      "  [1.16987286 1.34262658 1.39031002 1.42618431]]\n",
      "\n",
      " [[1.28927564 1.65764496 1.5705427  1.55124274]\n",
      "  [1.16987286 1.34262658 1.39031002 1.42618431]]\n",
      "\n",
      " [[1.28927564 1.65764496 1.5705427  1.55124274]\n",
      "  [1.16987286 1.34262658 1.39031002 1.42618431]]]\n"
     ]
    }
   ],
   "source": [
    "result_23 = array_2 + array_3\n",
    "print(result_23)\n",
    "\n"
   ]
  },
  {
   "cell_type": "code",
   "execution_count": 16,
   "metadata": {},
   "outputs": [
    {
     "name": "stdout",
     "output_type": "stream",
     "text": [
      "[[[-0.71072436 -0.34235504 -0.4294573  -0.44875726]\n",
      "  [-0.83012714 -0.65737342 -0.60968998 -0.57381569]]\n",
      "\n",
      " [[-0.71072436 -0.34235504 -0.4294573  -0.44875726]\n",
      "  [-0.83012714 -0.65737342 -0.60968998 -0.57381569]]\n",
      "\n",
      " [[-0.71072436 -0.34235504 -0.4294573  -0.44875726]\n",
      "  [-0.83012714 -0.65737342 -0.60968998 -0.57381569]]]\n"
     ]
    }
   ],
   "source": [
    "result_23 = array_2 - array_3\n",
    "print(result_23)\n",
    "\n"
   ]
  },
  {
   "cell_type": "code",
   "execution_count": 17,
   "metadata": {},
   "outputs": [
    {
     "name": "stdout",
     "output_type": "stream",
     "text": [
      "[[[0.28927564 0.65764496 0.5705427  0.55124274]\n",
      "  [0.16987286 0.34262658 0.39031002 0.42618431]]\n",
      "\n",
      " [[0.28927564 0.65764496 0.5705427  0.55124274]\n",
      "  [0.16987286 0.34262658 0.39031002 0.42618431]]\n",
      "\n",
      " [[0.28927564 0.65764496 0.5705427  0.55124274]\n",
      "  [0.16987286 0.34262658 0.39031002 0.42618431]]]\n"
     ]
    }
   ],
   "source": [
    "result_23 = array_2 * array_3\n",
    "print(result_23)"
   ]
  },
  {
   "cell_type": "markdown",
   "metadata": {},
   "source": [
    "## Task 6a: Math/Stats Aggregate Functions\n",
    "\n",
    "In the practice notebook, perform the following.\n",
    "\n",
    "+ Create three to five arrays\n",
    "+ Experiment with each of the aggregation functions: `sum`, `minimum`, `maximum`, `cumsum`, `mean`, `np.corrcoef`, `np.std`, `np.var`. \n",
    "+ For each function call, add a comment line above it that describes what it does.  \n",
    "```\n"
   ]
  },
  {
   "cell_type": "code",
   "execution_count": 18,
   "metadata": {},
   "outputs": [
    {
     "name": "stdout",
     "output_type": "stream",
     "text": [
      "2\n",
      "[[0 0 0 0]\n",
      " [1 1 1 1]\n",
      " [2 2 2 2]]\n",
      "12\n",
      "22\n",
      "[3 3 3 3]\n",
      "[0 4 8]\n"
     ]
    }
   ],
   "source": [
    "## sum\n",
    "## numpy.sum(a, axis=None, dtype=None, out=None, keepdims=<no value>, initial=<no value>, where=<no value>)\n",
    "## An array with the same shape as a, with the SPECIFIED AXIS REMOVED. \n",
    "## If a is a 0-d array, or if axis is None, a scalar is returned. \n",
    "## If an output array is specified, a reference to out is returned.\n",
    "\n",
    "a = 2\n",
    "print(np.sum(a))\n",
    "\n",
    "print(array_1)\n",
    "print(np.sum(array_1))\n",
    "print(np.sum(array_1,initial = 10))\n",
    "\n",
    "print(np.sum(array_1,axis = 0))\n",
    "print(np.sum(array_1,axis = 1))\n",
    "\n",
    "\n"
   ]
  },
  {
   "cell_type": "code",
   "execution_count": 19,
   "metadata": {},
   "outputs": [
    {
     "name": "stdout",
     "output_type": "stream",
     "text": [
      "[[0 0 0 0]\n",
      " [1 2 3 4]\n",
      " [2 4 6 8]]\n",
      "[[0 0 0 0]\n",
      " [1 1 1 1]\n",
      " [3 3 3 3]]\n",
      "array_1 shape: (3, 4)\n",
      "array_1 size: 12\n",
      "cumsum shape: (3, 4)\n",
      "cumsum size: 12\n",
      "[ 0  0  0  0  1  2  3  4  6  8 10 12]\n",
      "array_1 shape: (3, 4)\n",
      "array_1 size: 12\n",
      "cumsum shape: (12,)\n",
      "cumsum size: 12\n",
      "[ 1  3  6 10]\n",
      "a shape: (4,)\n",
      "a size: 4\n",
      "cumsum shape: (4,)\n",
      "cumsum size: 4\n"
     ]
    }
   ],
   "source": [
    "## Cumulative sum\n",
    "## numpy.cumsum(a, axis=None, dtype=None, out=None)\n",
    "## A new array holding the result is returned unless out is specified, \n",
    "## in which case a reference to out is returned. \n",
    "## The result has the same size as a, and the same shape as a if axis is not None or a is a 1-d array.\n",
    "\n",
    "## size of cumsum is same as 'a' or 'array_1' in all the outputs\n",
    "a = np.array([1,2,3,4])\n",
    "\n",
    "# shape of cumsum is same as array_1 since axis is specified\n",
    "cumsum = np.cumsum(array_1,axis = 1)\n",
    "print(cumsum)\n",
    "\n",
    "cumsum = np.cumsum(array_1,axis = 0)\n",
    "print(cumsum)\n",
    "\n",
    "print(f\"array_1 shape: {array_1.shape}\")\n",
    "print(f\"array_1 size: {array_1.size}\")\n",
    "print(f\"cumsum shape: {cumsum.shape}\")\n",
    "print(f\"cumsum size: {cumsum.size}\")\n",
    "\n",
    "# shape of cumsum and a are different since axis is not specified\n",
    "cumsum = np.cumsum(array_1)\n",
    "print(cumsum)\n",
    "\n",
    "print(f\"array_1 shape: {array_1.shape}\")\n",
    "print(f\"array_1 size: {array_1.size}\")\n",
    "print(f\"cumsum shape: {cumsum.shape}\")\n",
    "print(f\"cumsum size: {cumsum.size}\")\n",
    "\n",
    "# shape of cumsum are same as 'a' since a is an 1-d array\n",
    "cumsum = np.cumsum(a)\n",
    "print(cumsum)\n",
    "print(f\"a shape: {a.shape}\")\n",
    "print(f\"a size: {a.size}\")\n",
    "print(f\"cumsum shape: {cumsum.shape}\")\n",
    "print(f\"cumsum size: {cumsum.size}\")\n"
   ]
  },
  {
   "cell_type": "code",
   "execution_count": 20,
   "metadata": {},
   "outputs": [
    {
     "name": "stdout",
     "output_type": "stream",
     "text": [
      "[[0.04793667 0.29068603]\n",
      " [0.56783471 0.43055982]]\n",
      "[0.21385907 0.2456882 ]\n",
      "[[0.04793667 0.2456882 ]\n",
      " [0.21385907 0.2456882 ]]\n"
     ]
    }
   ],
   "source": [
    "# MINIMUM\n",
    "\n",
    "# numpy.minimum(x1, x2, out=None)\n",
    "# x1 and x2 should have same shape or broadcastable\n",
    "\n",
    "a = np.random.random((2,2))\n",
    "print(a)\n",
    "\n",
    "b = np.random.random(2)\n",
    "print(b)\n",
    "\n",
    "min = np.minimum(a,b)\n",
    "print(min)\n",
    "\n"
   ]
  },
  {
   "cell_type": "code",
   "execution_count": 21,
   "metadata": {},
   "outputs": [
    {
     "name": "stdout",
     "output_type": "stream",
     "text": [
      "[[0.21385907 0.29068603]\n",
      " [0.56783471 0.43055982]]\n",
      "[[0.23935695 0.17424096]\n",
      " [0.75921668 0.76587642]\n",
      " [0.34726925 0.39527941]]\n"
     ]
    },
    {
     "ename": "ValueError",
     "evalue": "operands could not be broadcast together with shapes (2,2) (3,2) ",
     "output_type": "error",
     "traceback": [
      "\u001b[0;31m---------------------------------------------------------------------------\u001b[0m",
      "\u001b[0;31mValueError\u001b[0m                                Traceback (most recent call last)",
      "Input \u001b[0;32mIn [21]\u001b[0m, in \u001b[0;36m<module>\u001b[0;34m\u001b[0m\n\u001b[1;32m      9\u001b[0m c \u001b[38;5;241m=\u001b[39m np\u001b[38;5;241m.\u001b[39mrandom\u001b[38;5;241m.\u001b[39mrandom((\u001b[38;5;241m3\u001b[39m,\u001b[38;5;241m2\u001b[39m))\n\u001b[1;32m     10\u001b[0m \u001b[38;5;28mprint\u001b[39m(c)\n\u001b[0;32m---> 11\u001b[0m \u001b[38;5;28mmax\u001b[39m \u001b[38;5;241m=\u001b[39m \u001b[43mnp\u001b[49m\u001b[38;5;241;43m.\u001b[39;49m\u001b[43mmaximum\u001b[49m\u001b[43m(\u001b[49m\u001b[43ma\u001b[49m\u001b[43m,\u001b[49m\u001b[43mc\u001b[49m\u001b[43m)\u001b[49m\n\u001b[1;32m     12\u001b[0m \u001b[38;5;28mprint\u001b[39m(\u001b[38;5;28mmax\u001b[39m)\n",
      "\u001b[0;31mValueError\u001b[0m: operands could not be broadcast together with shapes (2,2) (3,2) "
     ]
    }
   ],
   "source": [
    "# MAXIMUM\n",
    "\n",
    "# numpy.maximum(x1, x2, out=None )\n",
    "# x1 and x2 should have same shape or broadcastable\n",
    "\n",
    "max = np.maximum(a,b)\n",
    "print(max)\n",
    "\n",
    "c = np.random.random((3,2))\n",
    "print(c)\n",
    "max = np.maximum(a,c)\n",
    "print(max)"
   ]
  },
  {
   "cell_type": "code",
   "execution_count": 22,
   "metadata": {},
   "outputs": [
    {
     "name": "stdout",
     "output_type": "stream",
     "text": [
      "[[0 0 0 0]\n",
      " [1 1 1 1]\n",
      " [2 2 2 2]]\n",
      "12\n",
      "1.0\n",
      "[3 3 3 3]\n",
      "[1. 1. 1. 1.]\n",
      "[0 4 8]\n",
      "[0. 1. 2.]\n"
     ]
    }
   ],
   "source": [
    "# np.mean()\n",
    "\n",
    "# numpy.mean(a, axis=None, dtype=None, out=None)\n",
    "# average taken over the flattened array by default if axis is not specified\n",
    "\n",
    "print(array_1)\n",
    "\n",
    "print(np.sum(array_1))\n",
    "print(np.mean(array_1))  \n",
    "\n",
    "# mean along an axis\n",
    "print(np.sum(array_1,axis=0))\n",
    "print(np.mean(array_1,axis=0))\n",
    "\n",
    "\n",
    "print(np.sum(array_1,axis=1))\n",
    "print(np.mean(array_1,axis=1))\n",
    "\n"
   ]
  },
  {
   "cell_type": "code",
   "execution_count": 23,
   "metadata": {},
   "outputs": [
    {
     "name": "stdout",
     "output_type": "stream",
     "text": [
      "[[[ 1  2  3  4]\n",
      "  [ 1  2  3  4]]\n",
      "\n",
      " [[ 1  2  3  4]\n",
      "  [ 5  6  7  8]]\n",
      "\n",
      " [[ 1  2  3  4]\n",
      "  [ 9 10 11 12]]]\n",
      "(3, 2, 4)\n",
      "[2.5 4.5 6.5]\n"
     ]
    }
   ],
   "source": [
    "array_3 = np.array([ [[1,2,3,4], [1,2,3,4]], [[1,2,3,4], [5,6,7,8]], [[1,2,3,4], [9,10,11,12]]])   \n",
    "print(array_3)\n",
    "print(array_3.shape)\n",
    "\n",
    "# print(np.sum(array_3,axis =0))\n",
    "# print(np.mean(array_3,axis = 0))\n",
    "\n",
    "# print(np.sum(array_3,axis =1))\n",
    "# print(np.mean(array_3,axis =1))\n",
    "\n",
    "# print(np.sum(array_3,axis =2))\n",
    "# print(np.mean(array_3,axis = 2))\n",
    "\n",
    "# The reduced axis is left in the dimension with size one\n",
    "# print(np.mean(array_3,axis = 2,keepdims = True))\n",
    "\n",
    "# print(np.mean(array_3,axis = (0,1)))\n",
    "# print(np.mean(array_3,axis = (0,2)))\n",
    "print(np.mean(array_3,axis = (1,2)))"
   ]
  },
  {
   "cell_type": "code",
   "execution_count": 24,
   "metadata": {},
   "outputs": [
    {
     "name": "stdout",
     "output_type": "stream",
     "text": [
      "[[[ 1  2  3  4]\n",
      "  [ 1  2  3  4]]\n",
      "\n",
      " [[ 1  2  3  4]\n",
      "  [ 5  6  7  8]]\n",
      "\n",
      " [[ 1  2  3  4]\n",
      "  [ 9 10 11 12]]]\n",
      "[[ 2.5  2.5]\n",
      " [ 2.5  6.5]\n",
      " [ 2.5 10.5]]\n"
     ]
    }
   ],
   "source": [
    "# np.median()\n",
    "\n",
    "# numpy.median(a, axis=None, out=None, overwrite_input=False, keepdims=False)\n",
    "# overwrite_input = True will rewrite 'a'\n",
    "# other parameters are same as in np.mean() above\n",
    "\n",
    "print(array_3)\n",
    "print(np.median(array_3,axis = 2))"
   ]
  },
  {
   "cell_type": "code",
   "execution_count": 25,
   "metadata": {},
   "outputs": [
    {
     "name": "stdout",
     "output_type": "stream",
     "text": [
      "[[0.67433263 0.81684289 0.95831519 0.02411802]\n",
      " [0.8403148  0.76261433 0.75369882 0.73388704]\n",
      " [0.72522509 0.21613262 0.58740716 0.38089145]]\n",
      "[[1.         0.31797838 0.20423242]\n",
      " [0.31797838 1.         0.66950147]\n",
      " [0.20423242 0.66950147 1.        ]]\n",
      "[[0.67433263 0.81684289 0.95831519 0.02411802]\n",
      " [0.8403148  0.76261433 0.75369882 0.73388704]\n",
      " [0.72522509 0.21613262 0.58740716 0.38089145]]\n",
      "0.26509055597407044\n",
      "0.07027300286664179\n"
     ]
    }
   ],
   "source": [
    "# np.corrcoef()\n",
    "\n",
    "# numpy.corrcoef(x, y=None, rowvar=True, dtype=None)\n",
    "# When rowvar = True, each row represents a variable while the columns contains observations\n",
    "# when rowvar = False, columns are considered as variables and the rows contain observations\n",
    "# \n",
    "# A variable contains all values that measure the same underlying attribute (like height, temperature, duration) \n",
    "# across units. An observation contains all values measured on the same unit (like a person, or a day,\n",
    "# or a city) across attributes.\n",
    "\n",
    "array_4 = np.random.random((3,4))\n",
    "print(array_4)\n",
    "print(np.corrcoef(array_4))\n",
    "#print(np.corrcoef(array_4,rowvar=False))\n",
    "\n",
    "###############################################3\n",
    "\n",
    "# np.std() and np.var()\n",
    "\n",
    "# numpy.std(a, axis=None, dtype=None, out=None, ddof=0, keepdims=<no value>)\n",
    "# numpy.var(a, axis=None, dtype=None, out=None, ddof=0, keepdims=<no value>)\n",
    "# default is to find the standard deviance or variance of the flattened array\n",
    "\n",
    "print(array_4)\n",
    "print(np.std(array_4))\n",
    "print(np.var(array_4))\n"
   ]
  },
  {
   "cell_type": "markdown",
   "metadata": {},
   "source": [
    "## Task 6b: Logical Aggregate Functions\n",
    "\n",
    "In the practice notebook, perform the following.\n",
    "\n",
    "+ Create two arrays containing boolean values.\n",
    "+ Experiment with each of the aggregation functions: `logical_and`, `logical_or`, `logical_not`. \n",
    "+ For each function call, add a comment line above it that describes what it does.  \n",
    "```"
   ]
  },
  {
   "cell_type": "code",
   "execution_count": 38,
   "metadata": {},
   "outputs": [
    {
     "name": "stdout",
     "output_type": "stream",
     "text": [
      "[ True  True  True False]\n"
     ]
    }
   ],
   "source": [
    "# np.logical_or()\n",
    "\n",
    "log_a =[True, False, True, False]\n",
    "log_b =[True, True, False, False]\n",
    "\n",
    "\n",
    "\n",
    "print(np.logical_or(log_a,log_b))"
   ]
  },
  {
   "cell_type": "code",
   "execution_count": 41,
   "metadata": {},
   "outputs": [
    {
     "name": "stdout",
     "output_type": "stream",
     "text": [
      "[ True False False False]\n"
     ]
    }
   ],
   "source": [
    "print(np.logical_and(log_a,log_b))\n",
    "\n"
   ]
  },
  {
   "cell_type": "code",
   "execution_count": 42,
   "metadata": {},
   "outputs": [
    {
     "ename": "TypeError",
     "evalue": "unsupported operand type(s) for &: 'list' and 'list'",
     "output_type": "error",
     "traceback": [
      "\u001b[0;31m---------------------------------------------------------------------------\u001b[0m",
      "\u001b[0;31mTypeError\u001b[0m                                 Traceback (most recent call last)",
      "Input \u001b[0;32mIn [42]\u001b[0m, in \u001b[0;36m<module>\u001b[0;34m\u001b[0m\n\u001b[1;32m      1\u001b[0m \u001b[38;5;66;03m# '&' can be used as shortcut for 'np.logical_and' but the two inputs should be arrays\u001b[39;00m\n\u001b[0;32m----> 3\u001b[0m \u001b[38;5;28mprint\u001b[39m(\u001b[43mlog_a\u001b[49m\u001b[38;5;241;43m&\u001b[39;49m\u001b[43mlog_b\u001b[49m)\n",
      "\u001b[0;31mTypeError\u001b[0m: unsupported operand type(s) for &: 'list' and 'list'"
     ]
    }
   ],
   "source": [
    "# '&' can be used as shortcut for 'np.logical_and' but the two inputs should be arrays\n",
    "\n",
    "print(log_a&log_b)"
   ]
  },
  {
   "cell_type": "code",
   "execution_count": 49,
   "metadata": {},
   "outputs": [
    {
     "name": "stdout",
     "output_type": "stream",
     "text": [
      "(4,)\n",
      "[ True False False False]\n"
     ]
    }
   ],
   "source": [
    "a = np.array(log_a)\n",
    "b = np.array(log_b)\n",
    "\n",
    "print(a.shape)\n",
    "\n",
    "print(a&b)"
   ]
  },
  {
   "cell_type": "code",
   "execution_count": 58,
   "metadata": {},
   "outputs": [
    {
     "name": "stdout",
     "output_type": "stream",
     "text": [
      "[[ True False  True False]\n",
      " [ True  True  True  True]]\n"
     ]
    }
   ],
   "source": [
    "c = np.array([[True,False,True,False],[True,True,True,True]])\n",
    "print(c)"
   ]
  },
  {
   "cell_type": "code",
   "execution_count": 61,
   "metadata": {},
   "outputs": [
    {
     "name": "stdout",
     "output_type": "stream",
     "text": [
      "[ True False  True False]\n",
      "[[ True False  True False]\n",
      " [ True  True  True  True]]\n",
      "[[ True False  True False]\n",
      " [ True False  True False]]\n",
      "[[ True False  True False]\n",
      " [ True  True  True  True]]\n"
     ]
    }
   ],
   "source": [
    "print(a)\n",
    "print(c)\n",
    "print(np.logical_and(a,c))\n",
    "print(np.logical_or(a,c))\n",
    "\n"
   ]
  },
  {
   "cell_type": "code",
   "execution_count": 28,
   "metadata": {},
   "outputs": [
    {
     "name": "stdout",
     "output_type": "stream",
     "text": [
      "[False  True False  True]\n"
     ]
    }
   ],
   "source": [
    "print(np.logical_not(log_a))"
   ]
  }
 ],
 "metadata": {
  "kernelspec": {
   "display_name": "Python 3 (ipykernel)",
   "language": "python",
   "name": "python3"
  },
  "language_info": {
   "codemirror_mode": {
    "name": "ipython",
    "version": 3
   },
   "file_extension": ".py",
   "mimetype": "text/x-python",
   "name": "python",
   "nbconvert_exporter": "python",
   "pygments_lexer": "ipython3",
   "version": "3.8.10"
  }
 },
 "nbformat": 4,
 "nbformat_minor": 4
}
