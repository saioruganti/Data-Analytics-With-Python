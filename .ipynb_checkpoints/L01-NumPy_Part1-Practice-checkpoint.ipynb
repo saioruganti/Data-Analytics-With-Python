{
 "cells": [
  {
   "cell_type": "markdown",
   "metadata": {},
   "source": [
    "# Lesson 1 Practice: NumPy Part 1\n",
    "Use this notebook to follow along with the lesson in the corresponding lesson notebook: [L01-Numpy_Part1-Lesson.ipynb](./L01-Numpy_Part1-Lesson.ipynb).  \n",
    "\n"
   ]
  },
  {
   "cell_type": "markdown",
   "metadata": {},
   "source": [
    "## Instructions\n",
    "Follow along with the teaching material in the lesson. Throughout the tutorial sections labeled as \"Tasks\" are interspersed and indicated with the icon: ![Task](http://icons.iconarchive.com/icons/sbstnblnd/plateau/16/Apps-gnome-info-icon.png). You should follow the instructions provided in these sections by performing them in the practice notebook.  When the tutorial is completed you can turn in the final practice notebook. For each task, use the cell below it to write and test your code.  You may add additional cells for any task as needed or desired.  "
   ]
  },
  {
   "cell_type": "markdown",
   "metadata": {},
   "source": [
    "## Task 1a: Setup\n",
    "\n",
    "In the practice notebook, import the following packages:\n",
    "+ `numpy` as `np`"
   ]
  },
  {
   "cell_type": "code",
   "execution_count": 1,
   "metadata": {},
   "outputs": [],
   "source": [
    "import numpy as np\n"
   ]
  },
  {
   "cell_type": "markdown",
   "metadata": {},
   "source": [
    "## Task 2a: Creating Arrays\n",
    "\n",
    "In the practice notebook, perform the following.  \n",
    "- Create a 1-dimensional numpy array and print it.\n",
    "- Create a 2-dimensional numpy array and print it.\n",
    "- Create a 3-dimensional numpy array and print it."
   ]
  },
  {
   "cell_type": "code",
   "execution_count": 11,
   "metadata": {},
   "outputs": [
    {
     "name": "stdout",
     "output_type": "stream",
     "text": [
      "one_d [1 2 3]\n",
      "two_d [[1 2 3]\n",
      " [2 3 4]]\n",
      "three_d [[1 2 3]\n",
      " [2 3 4]\n",
      " [3 4 5]]\n"
     ]
    }
   ],
   "source": [
    "one_d = np.array([1,2,3])\n",
    "two_d = np.array([[1,2,3],[2,3,4]])\n",
    "three_d = np.array([[1,2,3],[2,3,4],[3,4,5]])\n",
    "\n",
    "print(\"one_d\",one_d)\n",
    "print(\"two_d\",two_d)\n",
    "print(\"three_d\",three_d)\n"
   ]
  },
  {
   "cell_type": "code",
   "execution_count": 6,
   "metadata": {},
   "outputs": [
    {
     "data": {
      "text/plain": [
       "array([1, 2, 3])"
      ]
     },
     "execution_count": 6,
     "metadata": {},
     "output_type": "execute_result"
    }
   ],
   "source": [
    "one_d"
   ]
  },
  {
   "cell_type": "code",
   "execution_count": 7,
   "metadata": {},
   "outputs": [
    {
     "data": {
      "text/plain": [
       "array([[1, 2, 3],\n",
       "       [2, 3, 4]])"
      ]
     },
     "execution_count": 7,
     "metadata": {},
     "output_type": "execute_result"
    }
   ],
   "source": [
    "two_d"
   ]
  },
  {
   "cell_type": "code",
   "execution_count": 8,
   "metadata": {},
   "outputs": [
    {
     "data": {
      "text/plain": [
       "array([[1, 2, 3],\n",
       "       [2, 3, 4],\n",
       "       [3, 4, 5]])"
      ]
     },
     "execution_count": 8,
     "metadata": {},
     "output_type": "execute_result"
    }
   ],
   "source": [
    "three_d"
   ]
  },
  {
   "cell_type": "markdown",
   "metadata": {},
   "source": [
    "## Task 3a: Accessing Array Attributes\n",
    "\n",
    "In the practice notebook, perform the following.\n",
    "\n",
    "- Create a NumPy array.\n",
    "- Write code that prints these attributes (one per line): `ndim`, `shape`, `size`, `dtype`, `itemsize`, `data`, `nbytes`.\n",
    "- Add a comment line, before each line describing what value the attribute returns. \n"
   ]
  },
  {
   "cell_type": "code",
   "execution_count": 25,
   "metadata": {},
   "outputs": [
    {
     "name": "stdout",
     "output_type": "stream",
     "text": [
      "1\n",
      "2\n",
      "(2,)\n",
      "(2, 3)\n",
      "2\n",
      "6\n",
      "int64\n",
      "float64\n",
      "8\n",
      "8\n",
      "<memory at 0x7f1630e04d00>\n",
      "<memory at 0x7f1630de85f0>\n",
      "16\n",
      "48\n"
     ]
    }
   ],
   "source": [
    "# creating a NumPy array\n",
    "my_array   = np.array([1,2])\n",
    "my_array2 = np.array([[1.2,2.3,3.4],[4.5,5.6,6.7]])\n",
    "                       \n",
    "\n",
    "# finding the dimensions\n",
    "print(my_array.ndim)\n",
    "print(my_array2.ndim)\n",
    "\n",
    "#finding the shape\n",
    "print(my_array.shape)\n",
    "print(my_array2.shape)\n",
    "\n",
    "#finding the size - total number of elements\n",
    "print(my_array.size)\n",
    "print(my_array2.size)\n",
    "\n",
    "#finding the dtype - data type\n",
    "print(my_array.dtype)\n",
    "print(my_array2.dtype)\n",
    "\n",
    "#finding the itemsize - length of one array element in bytes\n",
    "print(my_array.itemsize)\n",
    "print(my_array2.itemsize)\n",
    "                       \n",
    "#finding the data - pointer to the start of the array\n",
    "print(my_array.data)\n",
    "print(my_array2.data)\n",
    "\n",
    "#finding the nbytes - total number of bytes for the array\n",
    "# basically this is [size*itemsize]\n",
    "print(my_array.nbytes)\n",
    "print(my_array2.nbytes)"
   ]
  },
  {
   "cell_type": "markdown",
   "metadata": {},
   "source": [
    "## Task 4a: Initializing Arrays\n",
    "\n",
    "In the practice notebook, perform the following.\n",
    "\n",
    "+ Create an initialized array by using these functions:  `ones`, `zeros`, `empty`, `full`, `arange`, `linspace` and `random.random`. Be sure to follow each array creation with a call to `print()` to display your newly created arrays. \n",
    "+ Add a comment above each function call describing what is being done.  "
   ]
  },
  {
   "cell_type": "code",
   "execution_count": 52,
   "metadata": {},
   "outputs": [
    {
     "name": "stdout",
     "output_type": "stream",
     "text": [
      "[[1 1 1 1]\n",
      " [1 1 1 1]\n",
      " [1 1 1 1]]\n",
      "[[0. 0. 0.]\n",
      " [0. 0. 0.]]\n",
      "[[5.e-324 5.e-324]\n",
      " [5.e-324 5.e-324]]\n",
      "[[1 1]\n",
      " [1 1]]\n",
      "int64\n",
      "[[1. 2. 3.]\n",
      " [1. 2. 3.]]\n",
      "float64\n"
     ]
    }
   ],
   "source": [
    "ones = np.ones((3,4),int)  #default dtype = float\n",
    "print(ones)\n",
    "\n",
    "zeroes = np.zeros((2,3)) #default dtype = float\n",
    "print(zeroes)\n",
    "\n",
    "empty = np.empty((2,2)) # default dtype = float\n",
    "print(empty)\n",
    "\n",
    "full = np.full((2,2),1) # default dtype = None - determines the dtype from the input\n",
    "print(full)\n",
    "print(full.dtype)\n",
    "\n",
    "full2 = np.full((2,3),[1.0,2,3]) \n",
    "print(full2)\n",
    "print(full2.dtype)\n",
    "\n"
   ]
  },
  {
   "cell_type": "code",
   "execution_count": 80,
   "metadata": {},
   "outputs": [
    {
     "name": "stdout",
     "output_type": "stream",
     "text": [
      "[0 1 2 3 4]\n",
      "[10 12 14 16 18]\n",
      "[10 12 14 16 18 20]\n",
      "[11 14 17]\n",
      "[0 0 0 0 0 0 0 0 0 0 0 0 0 0 0 0 0 0 0 0]\n",
      "[0.  0.5 1.  1.5 2.  2.5 3.  3.5 4.  4.5 5.  5.5 6.  6.5 7.  7.5 8.  8.5\n",
      " 9.  9.5]\n",
      "(20,)\n",
      "1\n"
     ]
    }
   ],
   "source": [
    "# numpy.arange([start, ]stop, [step, ]dtype=None, *, like=None)\n",
    "# default start is 0. default step size is 1. default dtype is None\n",
    "# If step is specified, start should also be specified. \n",
    "# Better to not use when dtype = int and step is float\n",
    "\n",
    "# Returns array\n",
    "\n",
    "arange = np.arange(5)\n",
    "print(arange)\n",
    "\n",
    "# It does not include the STOP in the output array\n",
    "arange = np.arange(10,20,2)\n",
    "print(arange)\n",
    "\n",
    "arange = np.arange(10,21,2)\n",
    "print(arange)\n",
    "arange = np.arange(11,20,3)\n",
    "print(arange)\n",
    "\n",
    "# error prone\n",
    "arange = np.arange(0,10,0.5, dtype = int)\n",
    "print(arange)\n",
    "\n",
    "\n",
    "arange = np.arange(0,10,0.5, dtype = float)\n",
    "print(arange)\n",
    "print(arange.shape)\n",
    "print(arange.ndim)\n"
   ]
  },
  {
   "cell_type": "code",
   "execution_count": 82,
   "metadata": {},
   "outputs": [
    {
     "name": "stdout",
     "output_type": "stream",
     "text": [
      "(array([1. , 1.5, 2. , 2.5, 3. ]), 0.5)\n",
      "(array([1. , 1.4, 1.8, 2.2, 2.6]), 0.4)\n"
     ]
    }
   ],
   "source": [
    "# numpy.linspace(start, stop, num=50, endpoint=True, retstep=False, dtype=None, axis=0)\n",
    "# equally spaced values over a closed interval [start,stop]\n",
    "# num determines the spacing between values\n",
    "# endpoint = False makes the interval half-open interval [start,stop)\n",
    "# retstep = True returns the calculated step size\n",
    "\n",
    "# Returns tuple\n",
    "\n",
    "#linspace = np.linspace(1,3)\n",
    "#print(linspace)\n",
    "\n",
    "# includes the stop in the output\n",
    "linspace = np.linspace(1,3,num = 5,retstep = True)\n",
    "print(linspace)\n",
    "\n",
    "# excludes the stop in the output\n",
    "linspace = np.linspace(1,3,num = 5,endpoint = False, retstep = True)\n",
    "print(linspace)\n",
    "\n",
    "# The step sizes are different in both of the above\n",
    "\n",
    "# trying the linspace for array input for start and stop\n",
    "linspace = np.linspace((2,3),(4,4),num = 5,retstep = True)\n",
    "\n",
    "\n",
    "\n"
   ]
  },
  {
   "cell_type": "code",
   "execution_count": 89,
   "metadata": {},
   "outputs": [
    {
     "name": "stdout",
     "output_type": "stream",
     "text": [
      "0.5307593801419526\n",
      "[0.06602944 0.72370441]\n",
      "[[0.63814203 0.32174935 0.22192457]\n",
      " [0.21419133 0.41337876 0.03627164]]\n",
      "(2, 3)\n"
     ]
    }
   ],
   "source": [
    "# returns a random value between [0,1)\n",
    "\n",
    "print(np.random.random())\n",
    "print(np.random.random(2))\n",
    "print(np.random.random((2,3)))\n",
    "\n",
    "print(np.random.random((2,3)).shape)"
   ]
  },
  {
   "cell_type": "markdown",
   "metadata": {},
   "source": [
    "## Task 5a:  Broadcasting Arrays\n",
    "\n",
    "In the practice notebook, perform the following.\n",
    "\n",
    "+ Create two arrays of differing sizes but compatible with broadcasting.\n",
    "+ Perform addition, multiplication and subtraction.\n",
    "+ Create two additional arrays of differing size that do not meet the rules for broadcasting and try a mathematical operation.  "
   ]
  },
  {
   "cell_type": "code",
   "execution_count": 109,
   "metadata": {},
   "outputs": [
    {
     "name": "stdout",
     "output_type": "stream",
     "text": [
      "array_1 shape: (3, 4)\n",
      "array_2 shape: (2, 4)\n",
      "array_3 shape: (3, 2, 4)\n",
      "[[0 0 0 0]\n",
      " [1 1 1 1]\n",
      " [2 2 2 2]]\n",
      "[[0.40614509 0.12261421 0.666113   0.39886551]\n",
      " [0.19995149 0.58324405 0.14284587 0.7641702 ]]\n",
      "[[[1. 1. 1. 1.]\n",
      "  [1. 1. 1. 1.]]\n",
      "\n",
      " [[1. 1. 1. 1.]\n",
      "  [1. 1. 1. 1.]]\n",
      "\n",
      " [[1. 1. 1. 1.]\n",
      "  [1. 1. 1. 1.]]]\n"
     ]
    }
   ],
   "source": [
    "\n",
    "\n",
    "array_1 = np.array([[0,0,0,0],[1,1,1,1],[2,2,2,2]])\n",
    "array_2 = np.random.random((2,4))\n",
    "array_3 = np.ones((3,2,4))\n",
    "\n",
    "print(f\"array_1 shape: {array_1.shape}\")\n",
    "print(f\"array_2 shape: {array_2.shape}\")\n",
    "print(f\"array_3 shape: {array_3.shape}\")\n",
    "\n",
    "print(array_1)\n",
    "print(array_2)\n",
    "print(array_3)\n",
    "\n"
   ]
  },
  {
   "cell_type": "markdown",
   "metadata": {},
   "source": [
    "array_1 and array_2 are NOT broadcastable\n",
    "\n",
    "array_1 and array_3 are NOT broadcastable\n",
    "\n",
    "array_2 and array_3 are broadcastable"
   ]
  },
  {
   "cell_type": "code",
   "execution_count": 110,
   "metadata": {},
   "outputs": [
    {
     "ename": "ValueError",
     "evalue": "operands could not be broadcast together with shapes (3,4) (2,4) ",
     "output_type": "error",
     "traceback": [
      "\u001b[0;31m---------------------------------------------------------------------------\u001b[0m",
      "\u001b[0;31mValueError\u001b[0m                                Traceback (most recent call last)",
      "Input \u001b[0;32mIn [110]\u001b[0m, in \u001b[0;36m<module>\u001b[0;34m\u001b[0m\n\u001b[0;32m----> 1\u001b[0m result_12 \u001b[38;5;241m=\u001b[39m \u001b[43marray_1\u001b[49m\u001b[43m \u001b[49m\u001b[38;5;241;43m+\u001b[39;49m\u001b[43m \u001b[49m\u001b[43marray_2\u001b[49m\n\u001b[1;32m      2\u001b[0m \u001b[38;5;28mprint\u001b[39m(result)\n",
      "\u001b[0;31mValueError\u001b[0m: operands could not be broadcast together with shapes (3,4) (2,4) "
     ]
    }
   ],
   "source": [
    "result_12 = array_1 + array_2\n",
    "print(result)"
   ]
  },
  {
   "cell_type": "code",
   "execution_count": 111,
   "metadata": {},
   "outputs": [
    {
     "ename": "ValueError",
     "evalue": "operands could not be broadcast together with shapes (3,4) (3,2,4) ",
     "output_type": "error",
     "traceback": [
      "\u001b[0;31m---------------------------------------------------------------------------\u001b[0m",
      "\u001b[0;31mValueError\u001b[0m                                Traceback (most recent call last)",
      "Input \u001b[0;32mIn [111]\u001b[0m, in \u001b[0;36m<module>\u001b[0;34m\u001b[0m\n\u001b[0;32m----> 1\u001b[0m result_13 \u001b[38;5;241m=\u001b[39m \u001b[43marray_1\u001b[49m\u001b[43m \u001b[49m\u001b[38;5;241;43m+\u001b[39;49m\u001b[43m \u001b[49m\u001b[43marray_3\u001b[49m\n\u001b[1;32m      2\u001b[0m \u001b[38;5;28mprint\u001b[39m(result_13)\n",
      "\u001b[0;31mValueError\u001b[0m: operands could not be broadcast together with shapes (3,4) (3,2,4) "
     ]
    }
   ],
   "source": [
    "result_13 = array_1 + array_3\n",
    "print(result_13)"
   ]
  },
  {
   "cell_type": "code",
   "execution_count": 112,
   "metadata": {},
   "outputs": [
    {
     "name": "stdout",
     "output_type": "stream",
     "text": [
      "[[[1.40614509 1.12261421 1.666113   1.39886551]\n",
      "  [1.19995149 1.58324405 1.14284587 1.7641702 ]]\n",
      "\n",
      " [[1.40614509 1.12261421 1.666113   1.39886551]\n",
      "  [1.19995149 1.58324405 1.14284587 1.7641702 ]]\n",
      "\n",
      " [[1.40614509 1.12261421 1.666113   1.39886551]\n",
      "  [1.19995149 1.58324405 1.14284587 1.7641702 ]]]\n"
     ]
    }
   ],
   "source": [
    "result_23 = array_2 + array_3\n",
    "print(result_23)\n",
    "\n"
   ]
  },
  {
   "cell_type": "code",
   "execution_count": 113,
   "metadata": {},
   "outputs": [
    {
     "name": "stdout",
     "output_type": "stream",
     "text": [
      "[[[-0.59385491 -0.87738579 -0.333887   -0.60113449]\n",
      "  [-0.80004851 -0.41675595 -0.85715413 -0.2358298 ]]\n",
      "\n",
      " [[-0.59385491 -0.87738579 -0.333887   -0.60113449]\n",
      "  [-0.80004851 -0.41675595 -0.85715413 -0.2358298 ]]\n",
      "\n",
      " [[-0.59385491 -0.87738579 -0.333887   -0.60113449]\n",
      "  [-0.80004851 -0.41675595 -0.85715413 -0.2358298 ]]]\n"
     ]
    }
   ],
   "source": [
    "result_23 = array_2 - array_3\n",
    "print(result_23)\n",
    "\n"
   ]
  },
  {
   "cell_type": "code",
   "execution_count": 114,
   "metadata": {},
   "outputs": [
    {
     "name": "stdout",
     "output_type": "stream",
     "text": [
      "[[[0.40614509 0.12261421 0.666113   0.39886551]\n",
      "  [0.19995149 0.58324405 0.14284587 0.7641702 ]]\n",
      "\n",
      " [[0.40614509 0.12261421 0.666113   0.39886551]\n",
      "  [0.19995149 0.58324405 0.14284587 0.7641702 ]]\n",
      "\n",
      " [[0.40614509 0.12261421 0.666113   0.39886551]\n",
      "  [0.19995149 0.58324405 0.14284587 0.7641702 ]]]\n"
     ]
    }
   ],
   "source": [
    "result_23 = array_2 * array_3\n",
    "print(result_23)"
   ]
  },
  {
   "cell_type": "markdown",
   "metadata": {},
   "source": [
    "## Task 6a: Math/Stats Aggregate Functions\n",
    "\n",
    "In the practice notebook, perform the following.\n",
    "\n",
    "+ Create three to five arrays\n",
    "+ Experiment with each of the aggregation functions: `sum`, `minimum`, `maximum`, `cumsum`, `mean`, `np.corrcoef`, `np.std`, `np.var`. \n",
    "+ For each function call, add a comment line above it that describes what it does.  \n",
    "```\n"
   ]
  },
  {
   "cell_type": "code",
   "execution_count": null,
   "metadata": {},
   "outputs": [],
   "source": []
  },
  {
   "cell_type": "markdown",
   "metadata": {},
   "source": [
    "## Task 6b: Logical Aggregate Functions\n",
    "\n",
    "In the practice notebook, perform the following.\n",
    "\n",
    "+ Create two arrays containing boolean values.\n",
    "+ Experiment with each of the aggregation functions: `logical_and`, `logical_or`, `logical_not`. \n",
    "+ For each function call, add a comment line above it that describes what it does.  \n",
    "```"
   ]
  },
  {
   "cell_type": "code",
   "execution_count": null,
   "metadata": {},
   "outputs": [],
   "source": []
  }
 ],
 "metadata": {
  "kernelspec": {
   "display_name": "Python 3 (ipykernel)",
   "language": "python",
   "name": "python3"
  },
  "language_info": {
   "codemirror_mode": {
    "name": "ipython",
    "version": 3
   },
   "file_extension": ".py",
   "mimetype": "text/x-python",
   "name": "python",
   "nbconvert_exporter": "python",
   "pygments_lexer": "ipython3",
   "version": "3.8.10"
  }
 },
 "nbformat": 4,
 "nbformat_minor": 4
}
